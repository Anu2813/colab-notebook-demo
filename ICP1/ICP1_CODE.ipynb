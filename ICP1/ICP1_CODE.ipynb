{
  "nbformat": 4,
  "nbformat_minor": 0,
  "metadata": {
    "colab": {
      "provenance": [],
      "authorship_tag": "ABX9TyMWGHlfteveA6Lw/5mSV3Iu",
      "include_colab_link": true
    },
    "kernelspec": {
      "name": "python3",
      "display_name": "Python 3"
    },
    "language_info": {
      "name": "python"
    }
  },
  "cells": [
    {
      "cell_type": "markdown",
      "metadata": {
        "id": "view-in-github",
        "colab_type": "text"
      },
      "source": [
        "<a href=\"https://colab.research.google.com/github/Anu2813/colab-notebook-demo/blob/main/ICP1/ICP1_CODE.ipynb\" target=\"_parent\"><img src=\"https://colab.research.google.com/assets/colab-badge.svg\" alt=\"Open In Colab\"/></a>"
      ]
    },
    {
      "cell_type": "code",
      "execution_count": null,
      "metadata": {
        "id": "-ZDkF5eubtiv"
      },
      "outputs": [],
      "source": []
    },
    {
      "cell_type": "code",
      "source": [
        "from google.colab import drive\n",
        "drive.mount('/content/drive')"
      ],
      "metadata": {
        "colab": {
          "base_uri": "https://localhost:8080/"
        },
        "id": "c3ShMRdTbxvC",
        "outputId": "f5f19664-5b91-479c-ab8c-64fbe7191ed4"
      },
      "execution_count": 1,
      "outputs": [
        {
          "output_type": "stream",
          "name": "stdout",
          "text": [
            "Mounted at /content/drive\n"
          ]
        }
      ]
    },
    {
      "cell_type": "code",
      "source": [
        "input_str = list(input(\"Enter the string (e.g., python): \"))\n",
        "del input_str[1]\n",
        "del input_str[3]\n",
        "input_str.reverse()\n",
        "print(\"5a Output:\", ''.join(input_str))\n"
      ],
      "metadata": {
        "colab": {
          "base_uri": "https://localhost:8080/"
        },
        "id": "WWoLdKF9gDtp",
        "outputId": "0eadebae-d089-4e14-f0b9-c6e0958fb44b"
      },
      "execution_count": 2,
      "outputs": [
        {
          "output_type": "stream",
          "name": "stdout",
          "text": [
            "Enter the string (e.g., python): python\n",
            "5a Output: nhtp\n"
          ]
        }
      ]
    },
    {
      "cell_type": "code",
      "source": [
        "num1 = float(input(\"Enter first number: \"))\n",
        "num2 = float(input(\"Enter second number: \"))\n",
        "print(\"5b Output:\")\n",
        "print(\"Addition:\", num1 + num2)\n",
        "print(\"Subtraction:\", num1 - num2)\n",
        "print(\"Multiplication:\", num1 * num2)\n",
        "print(\"Division:\", num1 / num2 if num2 != 0 else \"Undefined (division by zero)\")"
      ],
      "metadata": {
        "colab": {
          "base_uri": "https://localhost:8080/"
        },
        "id": "03eZSI6TgRis",
        "outputId": "27bf8cf8-192e-40dd-ac4f-d2d493a1cee0"
      },
      "execution_count": 3,
      "outputs": [
        {
          "output_type": "stream",
          "name": "stdout",
          "text": [
            "Enter first number: 5.0\n",
            "Enter second number: 3.0\n",
            "5b Output:\n",
            "Addition: 8.0\n",
            "Subtraction: 2.0\n",
            "Multiplication: 15.0\n",
            "Division: 1.6666666666666667\n"
          ]
        }
      ]
    },
    {
      "cell_type": "code",
      "source": [
        "sentence = input(\"Enter a sentence: \")\n",
        "replaced_sentence = sentence.replace(\"python\", \"pythons\")\n",
        "print(\"6 Output:\", replaced_sentence)"
      ],
      "metadata": {
        "colab": {
          "base_uri": "https://localhost:8080/"
        },
        "id": "g9-nD-R-gkAd",
        "outputId": "8b7a29a2-7494-4b13-8524-0d99f96f14e0"
      },
      "execution_count": 4,
      "outputs": [
        {
          "output_type": "stream",
          "name": "stdout",
          "text": [
            "Enter a sentence: I love playing with python\n",
            "6 Output: I love playing with pythons\n"
          ]
        }
      ]
    },
    {
      "cell_type": "code",
      "source": [
        "score = float(input(\"Enter your class score (0-100): \"))\n",
        "\n",
        "if score >= 90:\n",
        "    grade = 'A'\n",
        "elif score >= 80:\n",
        "    grade = 'B'\n",
        "elif score >= 70:\n",
        "    grade = 'C'\n",
        "elif score >= 60:\n",
        "    grade = 'D'\n",
        "else:\n",
        "    grade = 'F'\n",
        "\n",
        "print(\"Your grade is:\", grade)"
      ],
      "metadata": {
        "colab": {
          "base_uri": "https://localhost:8080/"
        },
        "id": "M_7KcIrShGn0",
        "outputId": "73fd8e63-d2a9-4730-b955-b32ffcda8dc2"
      },
      "execution_count": 5,
      "outputs": [
        {
          "output_type": "stream",
          "name": "stdout",
          "text": [
            "Enter your class score (0-100): 93\n",
            "Your grade is: A\n"
          ]
        }
      ]
    },
    {
      "cell_type": "code",
      "source": [
        "x = [23, 'Python', 23.98]\n",
        "types = [type(i) for i in x]\n",
        "\n",
        "print(x)\n",
        "print(types)"
      ],
      "metadata": {
        "colab": {
          "base_uri": "https://localhost:8080/"
        },
        "id": "pUE-Kw5mhL8M",
        "outputId": "ad1e528d-1337-472f-d5dc-f59cc8685370"
      },
      "execution_count": 6,
      "outputs": [
        {
          "output_type": "stream",
          "name": "stdout",
          "text": [
            "[23, 'Python', 23.98]\n",
            "[<class 'int'>, <class 'str'>, <class 'float'>]\n"
          ]
        }
      ]
    },
    {
      "cell_type": "code",
      "source": [
        "IT_companies = {'Facebook', 'Google', 'Microsoft', 'Apple', 'IBM', 'Oracle', 'Amazon'}\n",
        "A = {19, 22, 24, 20, 25, 26}\n",
        "B = {19, 22, 20, 25, 26, 24, 28, 27}\n",
        "age = [22, 19, 24, 25, 26, 24, 25, 24]\n",
        "print(\"Length of IT_companies:\", len(IT_companies))\n",
        "IT_companies.add('Twitter')\n",
        "print(\"After adding Twitter:\", IT_companies)\n",
        "IT_companies.update(['TCS', 'Infosys', 'Wipro'])\n",
        "print(\"After adding multiple companies:\", IT_companies)\n",
        "IT_companies.remove('IBM')\n",
        "print(\"After removing IBM:\", IT_companies)\n",
        "print(\"\\nRemove vs Discard:\")\n",
        "temp_set = {'A', 'B'}\n",
        "temp_set.discard('C')\n",
        "print(\"Discard done without error.\")\n",
        "print(\"A union B:\", A.union(B))\n",
        "print(\"A intersection B:\", A.intersection(B))\n",
        "print(\"Is A subset of B?\", A.issubset(B))\n",
        "print(\"Are A and B disjoint?\", A.isdisjoint(B))\n",
        "print(\"A | B:\", A | B)\n",
        "print(\"B | A:\", B | A)\n",
        "print(\"Symmetric difference between A and B:\", A.symmetric_difference(B))\n",
        "del A, B\n",
        "print(\"Sets A and B deleted.\")\n",
        "age_set = set(age)\n",
        "print(\"Original list length:\", len(age))\n",
        "print(\"Set length (unique ages):\", len(age_set))"
      ],
      "metadata": {
        "colab": {
          "base_uri": "https://localhost:8080/"
        },
        "id": "nKeyVBlPhToH",
        "outputId": "26a987f4-c9a7-44e1-acee-56a1ce8a59fc"
      },
      "execution_count": 7,
      "outputs": [
        {
          "output_type": "stream",
          "name": "stdout",
          "text": [
            "Length of IT_companies: 7\n",
            "After adding Twitter: {'Google', 'Oracle', 'Microsoft', 'Apple', 'Facebook', 'Amazon', 'Twitter', 'IBM'}\n",
            "After adding multiple companies: {'Infosys', 'Twitter', 'Wipro', 'TCS', 'Google', 'Oracle', 'Microsoft', 'Facebook', 'Apple', 'Amazon', 'IBM'}\n",
            "After removing IBM: {'Infosys', 'Twitter', 'Wipro', 'TCS', 'Google', 'Oracle', 'Microsoft', 'Facebook', 'Apple', 'Amazon'}\n",
            "\n",
            "Remove vs Discard:\n",
            "Discard done without error.\n",
            "A union B: {19, 20, 22, 24, 25, 26, 27, 28}\n",
            "A intersection B: {19, 20, 22, 24, 25, 26}\n",
            "Is A subset of B? True\n",
            "Are A and B disjoint? False\n",
            "A | B: {19, 20, 22, 24, 25, 26, 27, 28}\n",
            "B | A: {19, 20, 22, 24, 25, 26, 27, 28}\n",
            "Symmetric difference between A and B: {27, 28}\n",
            "Sets A and B deleted.\n",
            "Original list length: 8\n",
            "Set length (unique ages): 5\n"
          ]
        }
      ]
    }
  ]
}