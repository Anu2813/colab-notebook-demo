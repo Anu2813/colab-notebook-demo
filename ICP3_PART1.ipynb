{
  "nbformat": 4,
  "nbformat_minor": 0,
  "metadata": {
    "colab": {
      "provenance": [],
      "authorship_tag": "ABX9TyNPM6z5onm4vI1yOsYMCV49",
      "include_colab_link": true
    },
    "kernelspec": {
      "name": "python3",
      "display_name": "Python 3"
    },
    "language_info": {
      "name": "python"
    }
  },
  "cells": [
    {
      "cell_type": "markdown",
      "metadata": {
        "id": "view-in-github",
        "colab_type": "text"
      },
      "source": [
        "<a href=\"https://colab.research.google.com/github/Anu2813/colab-notebook-demo/blob/main/ICP3_PART1.ipynb\" target=\"_parent\"><img src=\"https://colab.research.google.com/assets/colab-badge.svg\" alt=\"Open In Colab\"/></a>"
      ]
    },
    {
      "cell_type": "code",
      "execution_count": 1,
      "metadata": {
        "colab": {
          "base_uri": "https://localhost:8080/"
        },
        "id": "jd35aaF8ewsh",
        "outputId": "31051e37-eea8-4cbd-9ed7-5bc68ad9f564"
      },
      "outputs": [
        {
          "output_type": "stream",
          "name": "stdout",
          "text": [
            "Original Array (1D):\n",
            "[16 15 18 20  2  9  1 10 20  8 16 15 13 18  8]\n"
          ]
        }
      ],
      "source": [
        "import numpy as np\n",
        "\n",
        "arr = np.random.randint(1, 21, size=15)\n",
        "print(\"Original Array (1D):\")\n",
        "print(arr)"
      ]
    },
    {
      "cell_type": "code",
      "source": [
        "reshaped = arr.reshape(3, 5)\n",
        "print(\"\\nReshaped Array (3x5):\")\n",
        "print(reshaped)"
      ],
      "metadata": {
        "colab": {
          "base_uri": "https://localhost:8080/"
        },
        "id": "hvQyKOzzfMqh",
        "outputId": "12f4a0e7-bd88-450d-dc18-0fdc8eae44b5"
      },
      "execution_count": 2,
      "outputs": [
        {
          "output_type": "stream",
          "name": "stdout",
          "text": [
            "\n",
            "Reshaped Array (3x5):\n",
            "[[16 15 18 20  2]\n",
            " [ 9  1 10 20  8]\n",
            " [16 15 13 18  8]]\n"
          ]
        }
      ]
    },
    {
      "cell_type": "code",
      "source": [
        "print(\"\\nShape of the array:\", reshaped.shape)"
      ],
      "metadata": {
        "colab": {
          "base_uri": "https://localhost:8080/"
        },
        "id": "C-Nt0qM4fZcU",
        "outputId": "ff341843-7624-4f78-de45-45063aaf95e2"
      },
      "execution_count": 3,
      "outputs": [
        {
          "output_type": "stream",
          "name": "stdout",
          "text": [
            "\n",
            "Shape of the array: (3, 5)\n"
          ]
        }
      ]
    },
    {
      "cell_type": "code",
      "source": [
        "for i in range(reshaped.shape[0]):\n",
        "    max_index = np.argmax(reshaped[i])\n",
        "    reshaped[i][max_index] = 0\n",
        "\n",
        "print(\"\\nModified Array (Max in each row replaced with 0):\")\n",
        "print(reshaped)"
      ],
      "metadata": {
        "colab": {
          "base_uri": "https://localhost:8080/"
        },
        "id": "jxlN7_gwff23",
        "outputId": "892d7f2e-1e16-4ffc-979c-a3453d65084e"
      },
      "execution_count": 4,
      "outputs": [
        {
          "output_type": "stream",
          "name": "stdout",
          "text": [
            "\n",
            "Modified Array (Max in each row replaced with 0):\n",
            "[[16 15 18  0  2]\n",
            " [ 9  1 10  0  8]\n",
            " [16 15 13  0  8]]\n"
          ]
        }
      ]
    },
    {
      "cell_type": "code",
      "source": [
        "array_b = np.ones((4, 3), dtype=np.int32)\n",
        "\n",
        "print(\"\\n2D Array of size 4x3:\")\n",
        "print(array_b)\n",
        "\n",
        "print(\"Shape:\", array_b.shape)\n",
        "print(\"Type:\", type(array_b))\n",
        "print(\"Data type:\", array_b.dtype)\n"
      ],
      "metadata": {
        "colab": {
          "base_uri": "https://localhost:8080/"
        },
        "id": "z2Y0FVnCfuZs",
        "outputId": "226b9949-c2f9-46a6-c3d3-ecae5b97868b"
      },
      "execution_count": 8,
      "outputs": [
        {
          "output_type": "stream",
          "name": "stdout",
          "text": [
            "\n",
            "2D Array of size 4x3:\n",
            "[[1 1 1]\n",
            " [1 1 1]\n",
            " [1 1 1]\n",
            " [1 1 1]]\n",
            "Shape: (4, 3)\n",
            "Type: <class 'numpy.ndarray'>\n",
            "Data type: int32\n"
          ]
        }
      ]
    },
    {
      "cell_type": "code",
      "source": [
        "matrix_c = np.array([[3, -2], [1, 0]])\n",
        "eigenvalues, eigenvectors = np.linalg.eig(matrix_c)\n",
        "\n",
        "print(\"\\nEigenvalues:\")\n",
        "print(eigenvalues)\n",
        "\n",
        "print(\"Right Eigenvectors:\")\n",
        "print(eigenvectors)\n"
      ],
      "metadata": {
        "colab": {
          "base_uri": "https://localhost:8080/"
        },
        "id": "smsZ8X5igfMu",
        "outputId": "6a55bad2-49a9-47ae-a2e7-88a08a7dd16f"
      },
      "execution_count": 9,
      "outputs": [
        {
          "output_type": "stream",
          "name": "stdout",
          "text": [
            "\n",
            "Eigenvalues:\n",
            "[2. 1.]\n",
            "Right Eigenvectors:\n",
            "[[0.89442719 0.70710678]\n",
            " [0.4472136  0.70710678]]\n"
          ]
        }
      ]
    },
    {
      "cell_type": "code",
      "source": [
        "matrix_d = np.array([[0, 1, 2], [3, 4, 5]])\n",
        "diagonal_sum = np.trace(matrix_d[:, :2])\n",
        "\n",
        "print(\"\\nSum of diagonal elements:\")\n",
        "print(diagonal_sum)"
      ],
      "metadata": {
        "colab": {
          "base_uri": "https://localhost:8080/"
        },
        "id": "JML_wxHmgts4",
        "outputId": "9cba86d6-34d5-4873-9d29-ce4b42695f29"
      },
      "execution_count": 10,
      "outputs": [
        {
          "output_type": "stream",
          "name": "stdout",
          "text": [
            "\n",
            "Sum of diagonal elements:\n",
            "4\n"
          ]
        }
      ]
    },
    {
      "cell_type": "code",
      "source": [
        "original = np.array([[1, 2], [3, 4], [5, 6]])\n",
        "reshaped_e = original.reshape(2, 3)\n",
        "\n",
        "print(\"\\nOriginal 3x2 array:\")\n",
        "print(original)\n",
        "\n",
        "print(\"Reshaped to 2x3:\")\n",
        "print(reshaped_e)"
      ],
      "metadata": {
        "colab": {
          "base_uri": "https://localhost:8080/"
        },
        "id": "lMgom1X3hLaK",
        "outputId": "0c0c86f5-9007-41bb-900d-253b7140af58"
      },
      "execution_count": 11,
      "outputs": [
        {
          "output_type": "stream",
          "name": "stdout",
          "text": [
            "\n",
            "Original 3x2 array:\n",
            "[[1 2]\n",
            " [3 4]\n",
            " [5 6]]\n",
            "Reshaped to 2x3:\n",
            "[[1 2 3]\n",
            " [4 5 6]]\n"
          ]
        }
      ]
    }
  ]
}